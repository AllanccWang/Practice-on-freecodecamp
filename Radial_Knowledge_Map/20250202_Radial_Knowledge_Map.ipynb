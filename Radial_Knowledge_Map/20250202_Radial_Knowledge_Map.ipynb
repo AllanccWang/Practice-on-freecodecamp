{
 "cells": [
  {
   "cell_type": "code",
   "execution_count": 1,
   "id": "4d38d2c0-275e-4366-9952-e92924cdb99b",
   "metadata": {},
   "outputs": [],
   "source": [
    "import requests\n",
    "import re\n",
    "import time\n",
    "import wikipedia\n",
    "from bs4 import BeautifulSoup"
   ]
  },
  {
   "cell_type": "code",
   "execution_count": 2,
   "id": "406c00a7-6cd7-4c74-8178-61509190586d",
   "metadata": {},
   "outputs": [],
   "source": [
    "keyword = \"game theory\"\n",
    "results = wikipedia.search(keyword, results=5)"
   ]
  },
  {
   "cell_type": "code",
   "execution_count": 3,
   "id": "344018e7-a06d-420a-a592-f67c73a6eb0a",
   "metadata": {},
   "outputs": [],
   "source": [
    "connected = []\n",
    "#Check if a webpage is connected to keyword\n",
    "def check_Topic_Connection(subject):\n",
    "    try:\n",
    "        subj = wikipedia.summary(subject, auto_suggest=False)\n",
    "        if keyword in subj:\n",
    "            connected.append(subject)\n",
    "    except wikipedia.exceptions.DisambiguationError as e:\n",
    "        print(e.options)"
   ]
  },
  {
   "cell_type": "code",
   "execution_count": 4,
   "id": "eb74d2c5-d420-455b-8d51-05b1b5fa7fc3",
   "metadata": {},
   "outputs": [
    {
     "name": "stdout",
     "output_type": "stream",
     "text": [
      "['Game theory', 'Combinatorial game theory', 'Evolutionary game theory', 'Behavioral game theory', 'Strategy (game theory)']\n"
     ]
    }
   ],
   "source": [
    "for item in results:\n",
    "    check_Topic_Connection(item)\n",
    "print(connected)"
   ]
  },
  {
   "cell_type": "code",
   "execution_count": 5,
   "id": "faecefc2-1f45-40f1-9517-835fe7a2fc78",
   "metadata": {},
   "outputs": [
    {
     "name": "stderr",
     "output_type": "stream",
     "text": [
      "Unexpected renderer encountered.\n",
      "Renderer name: dict_keys(['reelShelfRenderer'])\n",
      "Search term: Game theory\n",
      "Please open an issue at https://github.com/pytube/pytube/issues and provide this log output.\n",
      "Unexpected renderer encountered.\n",
      "Renderer name: dict_keys(['lockupViewModel'])\n",
      "Search term: Game theory\n",
      "Please open an issue at https://github.com/pytube/pytube/issues and provide this log output.\n",
      "Unexpected renderer encountered.\n",
      "Renderer name: dict_keys(['reelShelfRenderer'])\n",
      "Search term: Game theory\n",
      "Please open an issue at https://github.com/pytube/pytube/issues and provide this log output.\n",
      "Unexpected renderer encountered.\n",
      "Renderer name: dict_keys(['lockupViewModel'])\n",
      "Search term: Game theory\n",
      "Please open an issue at https://github.com/pytube/pytube/issues and provide this log output.\n",
      "Unexpected renderer encountered.\n",
      "Renderer name: dict_keys(['lockupViewModel'])\n",
      "Search term: Combinatorial game theory\n",
      "Please open an issue at https://github.com/pytube/pytube/issues and provide this log output.\n",
      "Unexpected renderer encountered.\n",
      "Renderer name: dict_keys(['lockupViewModel'])\n",
      "Search term: Combinatorial game theory\n",
      "Please open an issue at https://github.com/pytube/pytube/issues and provide this log output.\n",
      "Unexpected renderer encountered.\n",
      "Renderer name: dict_keys(['reelShelfRenderer'])\n",
      "Search term: Combinatorial game theory\n",
      "Please open an issue at https://github.com/pytube/pytube/issues and provide this log output.\n",
      "Unexpected renderer encountered.\n",
      "Renderer name: dict_keys(['lockupViewModel'])\n",
      "Search term: Combinatorial game theory\n",
      "Please open an issue at https://github.com/pytube/pytube/issues and provide this log output.\n",
      "Unexpected renderer encountered.\n",
      "Renderer name: dict_keys(['lockupViewModel'])\n",
      "Search term: Combinatorial game theory\n",
      "Please open an issue at https://github.com/pytube/pytube/issues and provide this log output.\n",
      "Unexpected renderer encountered.\n",
      "Renderer name: dict_keys(['reelShelfRenderer'])\n",
      "Search term: Combinatorial game theory\n",
      "Please open an issue at https://github.com/pytube/pytube/issues and provide this log output.\n",
      "Unexpected renderer encountered.\n",
      "Renderer name: dict_keys(['lockupViewModel'])\n",
      "Search term: Combinatorial game theory\n",
      "Please open an issue at https://github.com/pytube/pytube/issues and provide this log output.\n",
      "Unexpected renderer encountered.\n",
      "Renderer name: dict_keys(['lockupViewModel'])\n",
      "Search term: Combinatorial game theory\n",
      "Please open an issue at https://github.com/pytube/pytube/issues and provide this log output.\n",
      "Unexpected renderer encountered.\n",
      "Renderer name: dict_keys(['lockupViewModel'])\n",
      "Search term: Combinatorial game theory\n",
      "Please open an issue at https://github.com/pytube/pytube/issues and provide this log output.\n",
      "Unexpected renderer encountered.\n",
      "Renderer name: dict_keys(['lockupViewModel'])\n",
      "Search term: Evolutionary game theory\n",
      "Please open an issue at https://github.com/pytube/pytube/issues and provide this log output.\n",
      "Unexpected renderer encountered.\n",
      "Renderer name: dict_keys(['lockupViewModel'])\n",
      "Search term: Evolutionary game theory\n",
      "Please open an issue at https://github.com/pytube/pytube/issues and provide this log output.\n",
      "Unexpected renderer encountered.\n",
      "Renderer name: dict_keys(['reelShelfRenderer'])\n",
      "Search term: Evolutionary game theory\n",
      "Please open an issue at https://github.com/pytube/pytube/issues and provide this log output.\n",
      "Unexpected renderer encountered.\n",
      "Renderer name: dict_keys(['reelShelfRenderer'])\n",
      "Search term: Evolutionary game theory\n",
      "Please open an issue at https://github.com/pytube/pytube/issues and provide this log output.\n",
      "Unexpected renderer encountered.\n",
      "Renderer name: dict_keys(['lockupViewModel'])\n",
      "Search term: Behavioral game theory\n",
      "Please open an issue at https://github.com/pytube/pytube/issues and provide this log output.\n",
      "Unexpected renderer encountered.\n",
      "Renderer name: dict_keys(['lockupViewModel'])\n",
      "Search term: Behavioral game theory\n",
      "Please open an issue at https://github.com/pytube/pytube/issues and provide this log output.\n",
      "Unexpected renderer encountered.\n",
      "Renderer name: dict_keys(['reelShelfRenderer'])\n",
      "Search term: Behavioral game theory\n",
      "Please open an issue at https://github.com/pytube/pytube/issues and provide this log output.\n",
      "Unexpected renderer encountered.\n",
      "Renderer name: dict_keys(['reelShelfRenderer'])\n",
      "Search term: Behavioral game theory\n",
      "Please open an issue at https://github.com/pytube/pytube/issues and provide this log output.\n",
      "Unexpected renderer encountered.\n",
      "Renderer name: dict_keys(['lockupViewModel'])\n",
      "Search term: Strategy (game theory)\n",
      "Please open an issue at https://github.com/pytube/pytube/issues and provide this log output.\n",
      "Unexpected renderer encountered.\n",
      "Renderer name: dict_keys(['reelShelfRenderer'])\n",
      "Search term: Strategy (game theory)\n",
      "Please open an issue at https://github.com/pytube/pytube/issues and provide this log output.\n",
      "Unexpected renderer encountered.\n",
      "Renderer name: dict_keys(['lockupViewModel'])\n",
      "Search term: Strategy (game theory)\n",
      "Please open an issue at https://github.com/pytube/pytube/issues and provide this log output.\n",
      "Unexpected renderer encountered.\n",
      "Renderer name: dict_keys(['reelShelfRenderer'])\n",
      "Search term: Strategy (game theory)\n",
      "Please open an issue at https://github.com/pytube/pytube/issues and provide this log output.\n",
      "Unexpected renderer encountered.\n",
      "Renderer name: dict_keys(['lockupViewModel'])\n",
      "Search term: Strategy (game theory)\n",
      "Please open an issue at https://github.com/pytube/pytube/issues and provide this log output.\n"
     ]
    },
    {
     "name": "stdout",
     "output_type": "stream",
     "text": [
      "['LUKA DONCIC TRADED TO LAKERS! ANTHONY DAVIS TRADED TO MAVERICKS! EMERGENCY TRADE PODCAST!', 'Game Theory: Poppy Playtime, Everything You Need to Know Before Chapter 4', 'How Decision Making is Actually Science: Game Theory Explained', 'What Game Theory Reveals About Life, The Universe, and Everything', 'Game Theory in AI: The Nash Equilibrium EXPLAINED 🔍', 'Poppy Playtime Chapter 4 EXPLAINED | All Lore and Secrets!', 'Game Theory: Can a Goose DESTROY YOUR LIFE? (Untitled Goose Game)', 'Poppy Playtime Chapter 4 Is DARKER Than You Think...', 'What game theory teaches us about war | Simon Sinek', 'Game Theory: The COMPLETE Lore Of Minecraft', 'Game Theory: The Full Story of Welcome Home... So Far', \"Game Theory: Super Mario Odyssey's GIANT Problem (Nintendo)\", '3 game theory tactics, explained', 'Game Theory: The Dirty Secrets of PowerWash Simulator', 'Game Theory Explained in One Minute', 'Game Theory: You KILLED the Planet! (Subnautica) #TeamSeas', 'Game Theory: Winning the Game of Life', 'Combinatorial Games: Introduction to Combinatorial Game Theory #1', 'HACKENBUSH: a window to a new world of math', 'Grundy Numbers - Combinatorial Game Theory - I', 'PROF. YANN BRENIER - \"FROM FLUIDS TO COMBINATORICS AND VICE VERSAVIA OPTIMAL TRANSPORT THEORY\"', 'Combinatorial Game Theory | Breakthrough Junior Challenge 2023', 'The Angel Problem [Game Theory]', 'Combinatorial Game Theory Part 1', 'How to Always Win this 1600s Combinatorial Game', 'Combinatorial Game Theory - CS50 Fair 2024 at Harvard', 'What Actually Is Game Theory?', 'Surreal Primer (Part I)', \"#3 Combinatorial Games | Zermelo's Theorem | July 2019 Game Theory\", 'Evolutionary game theory | Individuals and Society | MCAT | Khan Academy', 'Evolutionary Game Theory', 'How math brought revolution to evolution : Evolutionary Game Theory (Eng Sub) #SoME3', 'John Maynard Smith - The point of evolutionary game theory (50/102)', '33. Evolutionary Game Theory: Fighting and Contests', 'DDLC Series - Dr. Murat Arcak : Network Control Across Scales and Applications to Traffic Management', 'Evolutionary Games', 'What is Evolutionary game theory?, Explain Evolutionary game theory, Define Evolutionary game theory', 'Evolutionary Game Theory #simplified #psychology #sociology', 'Evolutionarily Unstable Nash Equilibrium', 'Game Theory 101: Evolutionary Game Theory', 'Evolutionarily Stable Strategies ft. Richard Dawkins', 'Applications of evolutionary game theory ..., Xiang-Yi Li (UniNe) 2021.03.17', 'Overview of Evolutionary Game Theory', 'Behavioural game theory', 'Game Theory 101: Behavioral Game Theory', 'Game theory challenge: Can you predict human behavior? - Lucas Husted', 'Kevin Leyton-Brown | Modeling human play in games: From behavioral economics to deep learning', 'Understanding Psychosocial and Behavioral Constructs Related to PrEP Interest', 'Behavioral Game Theory', 'Inequality Aversion in Game Theory & Behavioral Economics', 'A Brief Introduction to Game Theory, Module 7: Behavioral Game Theory', 'behavioral game theory', 'Behavioral Game Theory Presentation', 'Behavioral Experiments in Strategic Networks - Michael Kearns', 'Behavioral game theory', 'Game Theory for Decision Makers Lecture 5 - Guessing Game and Behavioral  Game Theory', 'Behavioral economics and Game theory | Robert Aumann | Reason with Science | Nobel Laureate | Maths', 'Game Theory and Oligopoly: Crash Course Economics #26', 'How to Win with Game Theory & Defeat Smart Opponents | Kevin Zollman | Big Think', 'Intro to Game Theory and the Dominant Strategy Equilibrium', 'Game Theory 101 (#4): Pure Strategy Nash Equilibrium and the Stag Hunt', 'Game Theory Dominant Strategy Practice: Econ Concepts in 60 Seconds', 'How to find DOMINATING STRATEGIES  with Game Theory', 'Game theory lessons - Historical example: Tobacco companies', 'How to Find a Dominant Strategy in Game Theory']\n"
     ]
    }
   ],
   "source": [
    "from pytube import Search\n",
    "list_yt = []\n",
    "for object in connected:\n",
    "    s = Search(object)\n",
    "    yt = s.results\n",
    "    for video in yt:\n",
    "        if video.title not in list_yt:\n",
    "            list_yt.append(video.title)\n",
    "print(list_yt)"
   ]
  },
  {
   "cell_type": "code",
   "execution_count": 6,
   "id": "ea8cf953-afd1-4182-ab91-68b75a5fce99",
   "metadata": {},
   "outputs": [
    {
     "name": "stdout",
     "output_type": "stream",
     "text": [
      "Evolutionarily Stable Strategies ft. Richard Dawkins\n",
      "Intro to Game Theory and the Dominant Strategy Equilibrium\n",
      "Game Theory 101 (#4): Pure Strategy Nash Equilibrium and the Stag Hunt\n",
      "Game Theory Dominant Strategy Practice: Econ Concepts in 60 Seconds\n",
      "How to Find a Dominant Strategy in Game Theory\n"
     ]
    }
   ],
   "source": [
    "for lines in list_yt:\n",
    "    if \"Strategies\" in lines or \"Strategy \" in lines:\n",
    "        print(lines)"
   ]
  }
 ],
 "metadata": {
  "kernelspec": {
   "display_name": "Python 3 (ipykernel)",
   "language": "python",
   "name": "python3"
  },
  "language_info": {
   "codemirror_mode": {
    "name": "ipython",
    "version": 3
   },
   "file_extension": ".py",
   "mimetype": "text/x-python",
   "name": "python",
   "nbconvert_exporter": "python",
   "pygments_lexer": "ipython3",
   "version": "3.10.6"
  }
 },
 "nbformat": 4,
 "nbformat_minor": 5
}
