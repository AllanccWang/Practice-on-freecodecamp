{
 "cells": [
  {
   "cell_type": "code",
   "execution_count": 1,
   "id": "4d38d2c0-275e-4366-9952-e92924cdb99b",
   "metadata": {},
   "outputs": [],
   "source": [
    "#source: https://www.geeksforgeeks.org/build-a-virtual-assistant-using-python/\n",
    "import pyttsx3 #text-to-speech conversion\n",
    "import speech_recognition as sr #convert audio into text\n",
    "import webbrowser #displaying Web-based documents to users\n",
    "import datetime  \n",
    "import wikipedia #information from the Wikipedia"
   ]
  },
  {
   "cell_type": "code",
   "execution_count": 2,
   "id": "406c00a7-6cd7-4c74-8178-61509190586d",
   "metadata": {},
   "outputs": [],
   "source": [
    "def speak(audio):\n",
    "     \n",
    "    engine = pyttsx3.init()\n",
    "    #getter method(gets the current value # of engine property)\n",
    "    voices = engine.getProperty('voices')\n",
    "    \n",
    "    #setter method .[0]=male voice and [1]=female voice in set Property.\n",
    "    engine.setProperty('voice', voices[0].id)\n",
    "     \n",
    "    #Method for the speaking of the assistant\n",
    "    engine.say(audio)  \n",
    "     \n",
    "    #Blocks while processing all the currently queued commands\n",
    "    engine.runAndWait()"
   ]
  },
  {
   "cell_type": "code",
   "execution_count": 3,
   "id": "41300810-ecc6-4252-841f-3e2ef4d66fa8",
   "metadata": {},
   "outputs": [],
   "source": [
    "def Take_query():\n",
    "\n",
    "\t#calling the Hello function for making it more interactive\n",
    "\tHello()\n",
    "\t\n",
    "\t#This loop is infinite as it will take our queries continuously\n",
    "\twhile(True):\n",
    "\t\t\n",
    "\t\t#taking the query and making it into lower case\n",
    "\t\tquery = takeCommand().lower()\n",
    "\t\tif \"open geeksforgeeks\" in query:\n",
    "\t\t\tspeak(\"Opening GeeksforGeeks \")\n",
    "\t\t\t\n",
    "\t\t\t#in the open method we just to give the link of the website\n",
    "\t\t\twebbrowser.open(\"www.geeksforgeeks.com\")\n",
    "\t\t\tcontinue\n",
    "\t\t\n",
    "\t\telif \"open google\" in query:\n",
    "\t\t\tspeak(\"Opening Google \")\n",
    "\t\t\twebbrowser.open(\"www.google.com\")\n",
    "\t\t\tcontinue\n",
    "\t\t\t\n",
    "\t\telif \"which day it is\" in query:\n",
    "\t\t\ttellDay()\n",
    "\t\t\tcontinue\n",
    "\t\t\n",
    "\t\telif \"tell me the time\" in query:\n",
    "\t\t\ttellTime()\n",
    "\t\t\tcontinue\n",
    "\t\t\n",
    "\t\t#this will exit and terminate the program\n",
    "\t\telif \"bye\" in query:\n",
    "\t\t\tspeak(\"Bye.Bye\")\n",
    "\t\t\texit()\n",
    "\t\t\n",
    "\t\telif \"from wikipedia\" in query:\n",
    "\t\t\t\n",
    "\t\t\t#if any one wants to have a information from wikipedia\n",
    "\t\t\tspeak(\"Checking the wikipedia \")\n",
    "\t\t\tquery = query.replace(\"wikipedia\", \"\")\n",
    "\t\t\t\n",
    "\t\t\t#it will give the summary of 4 lines from wikipedia we can increase and decrease\n",
    "\t\t\tresult = wikipedia.summary(query, sentences=4)\n",
    "\t\t\tspeak(\"According to wikipedia\")\n",
    "\t\t\tspeak(result)\n",
    "\n",
    "\t\telif \"tell me your name\" in query:\n",
    "\t\t\tspeak(\"I am Jarvis. Your desktop Assistant\")"
   ]
  },
  {
   "cell_type": "code",
   "execution_count": 4,
   "id": "344018e7-a06d-420a-a592-f67c73a6eb0a",
   "metadata": {},
   "outputs": [],
   "source": [
    "#this method is for taking the commands and recognizing the command from the speech_Recognition module\n",
    "def takeCommand():\n",
    "\n",
    "    try:\n",
    "    \tr = sr.Recognizer()\n",
    "    \t#from the speech_Recognition module we will use the Microphone module for listening the command\n",
    "    \twith sr.Microphone() as source:\n",
    "    \t\tprint('Listening')\n",
    "    \t\t#seconds of non-speaking audio before a phrase is considered complete\n",
    "    \t\tr.pause_threshold = 0.7\n",
    "    \t\taudio = r.listen(source)\t\t\n",
    "    \t\t#Now we will be using the try and catch method so that if sound is recognized \n",
    "    \t\ttry:\n",
    "    \t\t\tprint(\"Recognizing\")\n",
    "    \t\t\t# for Listening the command in english we can also use 'hi-In' \n",
    "    \t\t\tQuery = r.recognize_google(audio, language='en')\n",
    "    \t\t\tprint(\"the command is printed=\", Query)\t\n",
    "    \t\texcept Exception as e:\n",
    "    \t\t\tprint(e)\n",
    "    \t\t\tprint(\"Say that again sir\")\n",
    "    \t\t\treturn \"None\"\n",
    "    except OSError as e:\n",
    "        print(e)\n",
    "        Query = input()\n",
    "    return Query"
   ]
  },
  {
   "cell_type": "code",
   "execution_count": 5,
   "id": "eb74d2c5-d420-455b-8d51-05b1b5fa7fc3",
   "metadata": {},
   "outputs": [],
   "source": [
    "def tellTime():\n",
    "#This method will give the time\n",
    "\ttime = str(datetime.datetime.now())\n",
    "\t# the time will be displayed like this \"2020-06-05 17:50:14.582630\" and then after slicing we can get time\n",
    "\tprint(time)\n",
    "\thour = time[11:13]\n",
    "\tmin = time[14:16]\n",
    "\tspeak(\"The time is sir \" + hour + \" Hours and \" + min + \" Minutes.\")"
   ]
  },
  {
   "cell_type": "code",
   "execution_count": 6,
   "id": "41651f69-90a8-475d-a042-719dd0349a21",
   "metadata": {},
   "outputs": [],
   "source": [
    "def tellDay():\n",
    "    #This function is for telling the day of the week\n",
    "    day = datetime.datetime.today().weekday() + 1\n",
    "    #this line tells us about the number that will help us in telling the day\n",
    "    Day_dict = {1: 'Monday', 2: 'Tuesday', 3: 'Wednesday', 4: 'Thursday', 5: 'Friday', 6: 'Saturday', 7: 'Sunday'}\n",
    "    if day in Day_dict.keys():\n",
    "        day_of_the_week = Day_dict[day]\n",
    "        print(day_of_the_week)\n",
    "        speak(\"The day is \" + day_of_the_week)"
   ]
  },
  {
   "cell_type": "code",
   "execution_count": 7,
   "id": "7c1c7252-a50f-4722-96a5-e88a4895451f",
   "metadata": {},
   "outputs": [],
   "source": [
    "def Hello():\n",
    "\t#This function is for when the assistant is called it will say hello and then take query\n",
    "\tspeak(\"hello sir I am your desktop assistant. Tell me how may I help you\")"
   ]
  },
  {
   "cell_type": "code",
   "execution_count": 8,
   "id": "5541fcd8-443a-4a7b-b9d8-53e25d325f12",
   "metadata": {},
   "outputs": [
    {
     "name": "stdout",
     "output_type": "stream",
     "text": [
      "No Default Input Device Available\n"
     ]
    },
    {
     "ename": "KeyboardInterrupt",
     "evalue": "Interrupted by user",
     "output_type": "error",
     "traceback": [
      "\u001b[1;31m---------------------------------------------------------------------------\u001b[0m",
      "\u001b[1;31mKeyboardInterrupt\u001b[0m                         Traceback (most recent call last)",
      "Cell \u001b[1;32mIn[8], line 3\u001b[0m\n\u001b[0;32m      1\u001b[0m \u001b[38;5;28;01mif\u001b[39;00m \u001b[38;5;18m__name__\u001b[39m \u001b[38;5;241m==\u001b[39m \u001b[38;5;124m'\u001b[39m\u001b[38;5;124m__main__\u001b[39m\u001b[38;5;124m'\u001b[39m:\n\u001b[0;32m      2\u001b[0m     \u001b[38;5;66;03m#main method for executing the functions\u001b[39;00m\n\u001b[1;32m----> 3\u001b[0m     \u001b[43mTake_query\u001b[49m\u001b[43m(\u001b[49m\u001b[43m)\u001b[49m\n",
      "Cell \u001b[1;32mIn[3], line 10\u001b[0m, in \u001b[0;36mTake_query\u001b[1;34m()\u001b[0m\n\u001b[0;32m      6\u001b[0m \u001b[38;5;66;03m#This loop is infinite as it will take our queries continuously\u001b[39;00m\n\u001b[0;32m      7\u001b[0m \u001b[38;5;28;01mwhile\u001b[39;00m(\u001b[38;5;28;01mTrue\u001b[39;00m):\n\u001b[0;32m      8\u001b[0m \t\n\u001b[0;32m      9\u001b[0m \t\u001b[38;5;66;03m#taking the query and making it into lower case\u001b[39;00m\n\u001b[1;32m---> 10\u001b[0m \tquery \u001b[38;5;241m=\u001b[39m \u001b[43mtakeCommand\u001b[49m\u001b[43m(\u001b[49m\u001b[43m)\u001b[49m\u001b[38;5;241m.\u001b[39mlower()\n\u001b[0;32m     11\u001b[0m \t\u001b[38;5;28;01mif\u001b[39;00m \u001b[38;5;124m\"\u001b[39m\u001b[38;5;124mopen geeksforgeeks\u001b[39m\u001b[38;5;124m\"\u001b[39m \u001b[38;5;129;01min\u001b[39;00m query:\n\u001b[0;32m     12\u001b[0m \t\tspeak(\u001b[38;5;124m\"\u001b[39m\u001b[38;5;124mOpening GeeksforGeeks \u001b[39m\u001b[38;5;124m\"\u001b[39m)\n",
      "Cell \u001b[1;32mIn[4], line 24\u001b[0m, in \u001b[0;36mtakeCommand\u001b[1;34m()\u001b[0m\n\u001b[0;32m     22\u001b[0m \u001b[38;5;28;01mexcept\u001b[39;00m \u001b[38;5;167;01mOSError\u001b[39;00m \u001b[38;5;28;01mas\u001b[39;00m e:\n\u001b[0;32m     23\u001b[0m     \u001b[38;5;28mprint\u001b[39m(e)\n\u001b[1;32m---> 24\u001b[0m     Query \u001b[38;5;241m=\u001b[39m \u001b[38;5;28;43minput\u001b[39;49m\u001b[43m(\u001b[49m\u001b[43m)\u001b[49m\n\u001b[0;32m     25\u001b[0m \u001b[38;5;28;01mreturn\u001b[39;00m Query\n",
      "File \u001b[1;32m~\\AppData\\Local\\Programs\\Python\\Python310\\lib\\site-packages\\ipykernel\\kernelbase.py:1202\u001b[0m, in \u001b[0;36mKernel.raw_input\u001b[1;34m(self, prompt)\u001b[0m\n\u001b[0;32m   1200\u001b[0m     msg \u001b[38;5;241m=\u001b[39m \u001b[38;5;124m\"\u001b[39m\u001b[38;5;124mraw_input was called, but this frontend does not support input requests.\u001b[39m\u001b[38;5;124m\"\u001b[39m\n\u001b[0;32m   1201\u001b[0m     \u001b[38;5;28;01mraise\u001b[39;00m StdinNotImplementedError(msg)\n\u001b[1;32m-> 1202\u001b[0m \u001b[38;5;28;01mreturn\u001b[39;00m \u001b[38;5;28;43mself\u001b[39;49m\u001b[38;5;241;43m.\u001b[39;49m\u001b[43m_input_request\u001b[49m\u001b[43m(\u001b[49m\n\u001b[0;32m   1203\u001b[0m \u001b[43m    \u001b[49m\u001b[38;5;28;43mstr\u001b[39;49m\u001b[43m(\u001b[49m\u001b[43mprompt\u001b[49m\u001b[43m)\u001b[49m\u001b[43m,\u001b[49m\n\u001b[0;32m   1204\u001b[0m \u001b[43m    \u001b[49m\u001b[38;5;28;43mself\u001b[39;49m\u001b[38;5;241;43m.\u001b[39;49m\u001b[43m_parent_ident\u001b[49m\u001b[43m[\u001b[49m\u001b[38;5;124;43m\"\u001b[39;49m\u001b[38;5;124;43mshell\u001b[39;49m\u001b[38;5;124;43m\"\u001b[39;49m\u001b[43m]\u001b[49m\u001b[43m,\u001b[49m\n\u001b[0;32m   1205\u001b[0m \u001b[43m    \u001b[49m\u001b[38;5;28;43mself\u001b[39;49m\u001b[38;5;241;43m.\u001b[39;49m\u001b[43mget_parent\u001b[49m\u001b[43m(\u001b[49m\u001b[38;5;124;43m\"\u001b[39;49m\u001b[38;5;124;43mshell\u001b[39;49m\u001b[38;5;124;43m\"\u001b[39;49m\u001b[43m)\u001b[49m\u001b[43m,\u001b[49m\n\u001b[0;32m   1206\u001b[0m \u001b[43m    \u001b[49m\u001b[43mpassword\u001b[49m\u001b[38;5;241;43m=\u001b[39;49m\u001b[38;5;28;43;01mFalse\u001b[39;49;00m\u001b[43m,\u001b[49m\n\u001b[0;32m   1207\u001b[0m \u001b[43m\u001b[49m\u001b[43m)\u001b[49m\n",
      "File \u001b[1;32m~\\AppData\\Local\\Programs\\Python\\Python310\\lib\\site-packages\\ipykernel\\kernelbase.py:1245\u001b[0m, in \u001b[0;36mKernel._input_request\u001b[1;34m(self, prompt, ident, parent, password)\u001b[0m\n\u001b[0;32m   1242\u001b[0m \u001b[38;5;28;01mexcept\u001b[39;00m \u001b[38;5;167;01mKeyboardInterrupt\u001b[39;00m:\n\u001b[0;32m   1243\u001b[0m     \u001b[38;5;66;03m# re-raise KeyboardInterrupt, to truncate traceback\u001b[39;00m\n\u001b[0;32m   1244\u001b[0m     msg \u001b[38;5;241m=\u001b[39m \u001b[38;5;124m\"\u001b[39m\u001b[38;5;124mInterrupted by user\u001b[39m\u001b[38;5;124m\"\u001b[39m\n\u001b[1;32m-> 1245\u001b[0m     \u001b[38;5;28;01mraise\u001b[39;00m \u001b[38;5;167;01mKeyboardInterrupt\u001b[39;00m(msg) \u001b[38;5;28;01mfrom\u001b[39;00m \u001b[38;5;28;01mNone\u001b[39;00m\n\u001b[0;32m   1246\u001b[0m \u001b[38;5;28;01mexcept\u001b[39;00m \u001b[38;5;167;01mException\u001b[39;00m:\n\u001b[0;32m   1247\u001b[0m     \u001b[38;5;28mself\u001b[39m\u001b[38;5;241m.\u001b[39mlog\u001b[38;5;241m.\u001b[39mwarning(\u001b[38;5;124m\"\u001b[39m\u001b[38;5;124mInvalid Message:\u001b[39m\u001b[38;5;124m\"\u001b[39m, exc_info\u001b[38;5;241m=\u001b[39m\u001b[38;5;28;01mTrue\u001b[39;00m)\n",
      "\u001b[1;31mKeyboardInterrupt\u001b[0m: Interrupted by user"
     ]
    }
   ],
   "source": [
    "if __name__ == '__main__':\n",
    "    #main method for executing the functions\n",
    "    Take_query()"
   ]
  }
 ],
 "metadata": {
  "kernelspec": {
   "display_name": "Python 3 (ipykernel)",
   "language": "python",
   "name": "python3"
  },
  "language_info": {
   "codemirror_mode": {
    "name": "ipython",
    "version": 3
   },
   "file_extension": ".py",
   "mimetype": "text/x-python",
   "name": "python",
   "nbconvert_exporter": "python",
   "pygments_lexer": "ipython3",
   "version": "3.10.6"
  }
 },
 "nbformat": 4,
 "nbformat_minor": 5
}
